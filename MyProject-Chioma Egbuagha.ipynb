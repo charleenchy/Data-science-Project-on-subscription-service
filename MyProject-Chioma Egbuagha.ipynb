{
 "cells": [
  {
   "cell_type": "code",
   "execution_count": 2,
   "id": "1ae42c16",
   "metadata": {},
   "outputs": [],
   "source": [
    "import pandas as pd\n",
    "import matplotlib as plt\n",
    "import seaborn as sns\n",
    "import datetime as dt\n"
   ]
  },
  {
   "cell_type": "code",
   "execution_count": 3,
   "id": "3c3501c2",
   "metadata": {},
   "outputs": [],
   "source": [
    "# Read the dataset into a pandas dataframe\n",
    "df = pd.read_csv('actions2load.csv')\n"
   ]
  },
  {
   "cell_type": "code",
   "execution_count": 4,
   "id": "e6a95e2b",
   "metadata": {},
   "outputs": [
    {
     "data": {
      "text/html": [
       "<div>\n",
       "<style scoped>\n",
       "    .dataframe tbody tr th:only-of-type {\n",
       "        vertical-align: middle;\n",
       "    }\n",
       "\n",
       "    .dataframe tbody tr th {\n",
       "        vertical-align: top;\n",
       "    }\n",
       "\n",
       "    .dataframe thead th {\n",
       "        text-align: right;\n",
       "    }\n",
       "</style>\n",
       "<table border=\"1\" class=\"dataframe\">\n",
       "  <thead>\n",
       "    <tr style=\"text-align: right;\">\n",
       "      <th></th>\n",
       "      <th>account_id</th>\n",
       "      <th>event_time</th>\n",
       "      <th>event_type</th>\n",
       "      <th>product_id</th>\n",
       "      <th>additional_data</th>\n",
       "    </tr>\n",
       "  </thead>\n",
       "  <tbody>\n",
       "    <tr>\n",
       "      <th>0</th>\n",
       "      <td>608aa5969cef2edc29cb0c46deaec9da</td>\n",
       "      <td>2019-11-29 12:10:08.154</td>\n",
       "      <td>DashboardLivebookLinkOpened</td>\n",
       "      <td>1156</td>\n",
       "      <td>/book/learn-dbatools-in-a-month-of-lunches</td>\n",
       "    </tr>\n",
       "    <tr>\n",
       "      <th>1</th>\n",
       "      <td>d07263602248aa70ce1967d6f98f9506</td>\n",
       "      <td>2019-11-29 12:10:19.962</td>\n",
       "      <td>ReadingOwnedBook</td>\n",
       "      <td>610</td>\n",
       "      <td>60s</td>\n",
       "    </tr>\n",
       "    <tr>\n",
       "      <th>2</th>\n",
       "      <td>b7d5902d66127909d0f9d766a841ebb5</td>\n",
       "      <td>2019-11-29 12:11:20.707</td>\n",
       "      <td>ReadingOwnedBook</td>\n",
       "      <td>1172</td>\n",
       "      <td>480s</td>\n",
       "    </tr>\n",
       "    <tr>\n",
       "      <th>3</th>\n",
       "      <td>d07263602248aa70ce1967d6f98f9506</td>\n",
       "      <td>2019-11-29 12:11:41.283</td>\n",
       "      <td>ProductTocLivebookLinkOpened</td>\n",
       "      <td>1066</td>\n",
       "      <td>/book/grokking-machine-learning/chapter-1</td>\n",
       "    </tr>\n",
       "    <tr>\n",
       "      <th>4</th>\n",
       "      <td>89f7601cb558e1c47b00a7fabb6a466c</td>\n",
       "      <td>2019-11-29 12:11:58.253</td>\n",
       "      <td>ReadingOwnedBook</td>\n",
       "      <td>1073</td>\n",
       "      <td>960s</td>\n",
       "    </tr>\n",
       "  </tbody>\n",
       "</table>\n",
       "</div>"
      ],
      "text/plain": [
       "                         account_id               event_time  \\\n",
       "0  608aa5969cef2edc29cb0c46deaec9da  2019-11-29 12:10:08.154   \n",
       "1  d07263602248aa70ce1967d6f98f9506  2019-11-29 12:10:19.962   \n",
       "2  b7d5902d66127909d0f9d766a841ebb5  2019-11-29 12:11:20.707   \n",
       "3  d07263602248aa70ce1967d6f98f9506  2019-11-29 12:11:41.283   \n",
       "4  89f7601cb558e1c47b00a7fabb6a466c  2019-11-29 12:11:58.253   \n",
       "\n",
       "                     event_type  product_id  \\\n",
       "0   DashboardLivebookLinkOpened        1156   \n",
       "1              ReadingOwnedBook         610   \n",
       "2              ReadingOwnedBook        1172   \n",
       "3  ProductTocLivebookLinkOpened        1066   \n",
       "4              ReadingOwnedBook        1073   \n",
       "\n",
       "                              additional_data  \n",
       "0  /book/learn-dbatools-in-a-month-of-lunches  \n",
       "1                                         60s  \n",
       "2                                        480s  \n",
       "3   /book/grokking-machine-learning/chapter-1  \n",
       "4                                        960s  "
      ]
     },
     "execution_count": 4,
     "metadata": {},
     "output_type": "execute_result"
    }
   ],
   "source": [
    "df.head()\n"
   ]
  },
  {
   "cell_type": "code",
   "execution_count": 7,
   "id": "2bebffdf",
   "metadata": {},
   "outputs": [
    {
     "name": "stdout",
     "output_type": "stream",
     "text": [
      "(3242076, 5)\n"
     ]
    }
   ],
   "source": [
    "# Get the shape of the DataFrame\n",
    "shape = df.shape\n",
    "\n",
    "# Print the shape\n",
    "print(shape)"
   ]
  },
  {
   "cell_type": "code",
   "execution_count": null,
   "id": "7896a321",
   "metadata": {},
   "outputs": [],
   "source": []
  },
  {
   "cell_type": "code",
   "execution_count": 5,
   "id": "a1cc74eb",
   "metadata": {},
   "outputs": [
    {
     "data": {
      "text/plain": [
       "account_id           89467\n",
       "event_time         2940583\n",
       "event_type              35\n",
       "product_id             740\n",
       "additional_data     248390\n",
       "dtype: int64"
      ]
     },
     "execution_count": 5,
     "metadata": {},
     "output_type": "execute_result"
    }
   ],
   "source": [
    "df.nunique()"
   ]
  },
  {
   "cell_type": "code",
   "execution_count": 6,
   "id": "2736f022",
   "metadata": {},
   "outputs": [
    {
     "name": "stdout",
     "output_type": "stream",
     "text": [
      "account_id              0\n",
      "event_time              0\n",
      "event_type              0\n",
      "product_id              0\n",
      "additional_data    516123\n",
      "dtype: int64\n"
     ]
    }
   ],
   "source": [
    "# Check for missing data\n",
    "print(df.isnull().sum())"
   ]
  },
  {
   "cell_type": "code",
   "execution_count": 7,
   "id": "bd21ae24",
   "metadata": {},
   "outputs": [],
   "source": [
    "# Handle missing values\n",
    "df.fillna(0, inplace=True)"
   ]
  },
  {
   "cell_type": "code",
   "execution_count": 8,
   "id": "599415c2",
   "metadata": {
    "scrolled": true
   },
   "outputs": [
    {
     "name": "stdout",
     "output_type": "stream",
     "text": [
      "account_id         0\n",
      "event_time         0\n",
      "event_type         0\n",
      "product_id         0\n",
      "additional_data    0\n",
      "dtype: int64\n"
     ]
    }
   ],
   "source": [
    "# Check for missing data after handling it\n",
    "print(df.isnull().sum())"
   ]
  },
  {
   "cell_type": "code",
   "execution_count": 12,
   "id": "d76f7af1",
   "metadata": {},
   "outputs": [
    {
     "name": "stdout",
     "output_type": "stream",
     "text": [
      "Number of duplicates: 0\n"
     ]
    }
   ],
   "source": [
    "# Check for duplicates\n",
    "duplicates = df.duplicated()\n",
    "\n",
    "# Count the number of duplicates\n",
    "num_duplicates = duplicates.sum()\n",
    "\n",
    "# Print the number of duplicates\n",
    "print(\"Number of duplicates:\", num_duplicates)\n"
   ]
  },
  {
   "cell_type": "code",
   "execution_count": 13,
   "id": "ba3e5261",
   "metadata": {},
   "outputs": [],
   "source": [
    "# Remove duplicates\n",
    "df.drop_duplicates(inplace=True)"
   ]
  },
  {
   "cell_type": "code",
   "execution_count": 11,
   "id": "5c09fe2b",
   "metadata": {},
   "outputs": [
    {
     "name": "stdout",
     "output_type": "stream",
     "text": [
      "(3241562, 5)\n"
     ]
    }
   ],
   "source": [
    "# Get the new shape of the DataFrame after dropping duplicates\n",
    "shape = df.shape\n",
    "\n",
    "# Print the shape\n",
    "print(shape)"
   ]
  },
  {
   "cell_type": "code",
   "execution_count": 14,
   "id": "f3b96000",
   "metadata": {},
   "outputs": [],
   "source": [
    "# convert the event_time column to a datetime data type\n",
    "df['event_time'] = pd.to_datetime(df['event_time'])"
   ]
  },
  {
   "cell_type": "code",
   "execution_count": 19,
   "id": "8f9a9896",
   "metadata": {},
   "outputs": [],
   "source": [
    "# extract the date and time from the event_time column\n",
    "df['event_date'] = df['event_time'].dt.date\n",
    "df['event_hour'] = df['event_time'].dt.hour"
   ]
  },
  {
   "cell_type": "code",
   "execution_count": 19,
   "id": "0254d5fd",
   "metadata": {},
   "outputs": [
    {
     "name": "stdout",
     "output_type": "stream",
     "text": [
      "                               account_id              event_time  \\\n",
      "0        608aa5969cef2edc29cb0c46deaec9da 2019-11-29 12:10:08.154   \n",
      "1        d07263602248aa70ce1967d6f98f9506 2019-11-29 12:10:19.962   \n",
      "2        b7d5902d66127909d0f9d766a841ebb5 2019-11-29 12:11:20.707   \n",
      "3        d07263602248aa70ce1967d6f98f9506 2019-11-29 12:11:41.283   \n",
      "4        89f7601cb558e1c47b00a7fabb6a466c 2019-11-29 12:11:58.253   \n",
      "...                                   ...                     ...   \n",
      "3242071  6bb61e3b7bce0931da574d19d1d82c88 2020-06-04 04:19:56.485   \n",
      "3242072  6bb61e3b7bce0931da574d19d1d82c88 2020-06-04 04:19:56.486   \n",
      "3242073  6bb61e3b7bce0931da574d19d1d82c88 2020-06-04 04:19:59.613   \n",
      "3242074  6bb61e3b7bce0931da574d19d1d82c88 2020-06-04 04:19:59.612   \n",
      "3242075  3eff5d4b55889abb0a8b08d2136f1b63 2020-06-04 04:20:13.271   \n",
      "\n",
      "                           event_type  product_id  \\\n",
      "0         DashboardLivebookLinkOpened        1156   \n",
      "1                    ReadingOwnedBook         610   \n",
      "2                    ReadingOwnedBook        1172   \n",
      "3        ProductTocLivebookLinkOpened        1066   \n",
      "4                    ReadingOwnedBook        1073   \n",
      "...                               ...         ...   \n",
      "3242071            FirstManningAccess          -1   \n",
      "3242072           FirstLivebookAccess          -1   \n",
      "3242073           FirstLivebookAccess          -1   \n",
      "3242074            FirstManningAccess          -1   \n",
      "3242075              ReadingOwnedBook         733   \n",
      "\n",
      "                                           additional_data  event_date  \\\n",
      "0               /book/learn-dbatools-in-a-month-of-lunches  2019-11-29   \n",
      "1                                                      60s  2019-11-29   \n",
      "2                                                     480s  2019-11-29   \n",
      "3                /book/grokking-machine-learning/chapter-1  2019-11-29   \n",
      "4                                                     960s  2019-11-29   \n",
      "...                                                    ...         ...   \n",
      "3242071  https://www.manning.com/books/bdd-in-action-se...  2020-06-04   \n",
      "3242072  https://www.manning.com/books/bdd-in-action-se...  2020-06-04   \n",
      "3242073                            https://www.google.com/  2020-06-04   \n",
      "3242074                            https://www.google.com/  2020-06-04   \n",
      "3242075                                              1200s  2020-06-04   \n",
      "\n",
      "         event_hour  \n",
      "0                12  \n",
      "1                12  \n",
      "2                12  \n",
      "3                12  \n",
      "4                12  \n",
      "...             ...  \n",
      "3242071           4  \n",
      "3242072           4  \n",
      "3242073           4  \n",
      "3242074           4  \n",
      "3242075           4  \n",
      "\n",
      "[3241562 rows x 7 columns]\n"
     ]
    }
   ],
   "source": [
    "print (df)"
   ]
  },
  {
   "cell_type": "code",
   "execution_count": 17,
   "id": "8ab3395c",
   "metadata": {},
   "outputs": [
    {
     "name": "stdout",
     "output_type": "stream",
     "text": [
      "account_id                 object\n",
      "event_time         datetime64[ns]\n",
      "event_type                 object\n",
      "product_id                  int64\n",
      "additional_data            object\n",
      "event_date                 object\n",
      "event_hour                 object\n",
      "dtype: object\n"
     ]
    }
   ],
   "source": [
    "print(df.dtypes)"
   ]
  },
  {
   "cell_type": "code",
   "execution_count": 20,
   "id": "f0619ce1",
   "metadata": {},
   "outputs": [
    {
     "data": {
      "text/html": [
       "<div>\n",
       "<style scoped>\n",
       "    .dataframe tbody tr th:only-of-type {\n",
       "        vertical-align: middle;\n",
       "    }\n",
       "\n",
       "    .dataframe tbody tr th {\n",
       "        vertical-align: top;\n",
       "    }\n",
       "\n",
       "    .dataframe thead th {\n",
       "        text-align: right;\n",
       "    }\n",
       "</style>\n",
       "<table border=\"1\" class=\"dataframe\">\n",
       "  <thead>\n",
       "    <tr style=\"text-align: right;\">\n",
       "      <th></th>\n",
       "      <th>account_id</th>\n",
       "      <th>event_time</th>\n",
       "      <th>event_type</th>\n",
       "      <th>product_id</th>\n",
       "      <th>additional_data</th>\n",
       "      <th>event_date</th>\n",
       "      <th>event_hour</th>\n",
       "      <th>event_time1</th>\n",
       "    </tr>\n",
       "  </thead>\n",
       "  <tbody>\n",
       "    <tr>\n",
       "      <th>0</th>\n",
       "      <td>608aa5969cef2edc29cb0c46deaec9da</td>\n",
       "      <td>2019-11-29 12:10:08.154</td>\n",
       "      <td>DashboardLivebookLinkOpened</td>\n",
       "      <td>1156</td>\n",
       "      <td>/book/learn-dbatools-in-a-month-of-lunches</td>\n",
       "      <td>2019-11-29</td>\n",
       "      <td>12</td>\n",
       "      <td>12:10:08</td>\n",
       "    </tr>\n",
       "    <tr>\n",
       "      <th>1</th>\n",
       "      <td>d07263602248aa70ce1967d6f98f9506</td>\n",
       "      <td>2019-11-29 12:10:19.962</td>\n",
       "      <td>ReadingOwnedBook</td>\n",
       "      <td>610</td>\n",
       "      <td>60s</td>\n",
       "      <td>2019-11-29</td>\n",
       "      <td>12</td>\n",
       "      <td>12:10:19</td>\n",
       "    </tr>\n",
       "    <tr>\n",
       "      <th>2</th>\n",
       "      <td>b7d5902d66127909d0f9d766a841ebb5</td>\n",
       "      <td>2019-11-29 12:11:20.707</td>\n",
       "      <td>ReadingOwnedBook</td>\n",
       "      <td>1172</td>\n",
       "      <td>480s</td>\n",
       "      <td>2019-11-29</td>\n",
       "      <td>12</td>\n",
       "      <td>12:11:20</td>\n",
       "    </tr>\n",
       "    <tr>\n",
       "      <th>3</th>\n",
       "      <td>d07263602248aa70ce1967d6f98f9506</td>\n",
       "      <td>2019-11-29 12:11:41.283</td>\n",
       "      <td>ProductTocLivebookLinkOpened</td>\n",
       "      <td>1066</td>\n",
       "      <td>/book/grokking-machine-learning/chapter-1</td>\n",
       "      <td>2019-11-29</td>\n",
       "      <td>12</td>\n",
       "      <td>12:11:41</td>\n",
       "    </tr>\n",
       "    <tr>\n",
       "      <th>4</th>\n",
       "      <td>89f7601cb558e1c47b00a7fabb6a466c</td>\n",
       "      <td>2019-11-29 12:11:58.253</td>\n",
       "      <td>ReadingOwnedBook</td>\n",
       "      <td>1073</td>\n",
       "      <td>960s</td>\n",
       "      <td>2019-11-29</td>\n",
       "      <td>12</td>\n",
       "      <td>12:11:58</td>\n",
       "    </tr>\n",
       "  </tbody>\n",
       "</table>\n",
       "</div>"
      ],
      "text/plain": [
       "                         account_id              event_time  \\\n",
       "0  608aa5969cef2edc29cb0c46deaec9da 2019-11-29 12:10:08.154   \n",
       "1  d07263602248aa70ce1967d6f98f9506 2019-11-29 12:10:19.962   \n",
       "2  b7d5902d66127909d0f9d766a841ebb5 2019-11-29 12:11:20.707   \n",
       "3  d07263602248aa70ce1967d6f98f9506 2019-11-29 12:11:41.283   \n",
       "4  89f7601cb558e1c47b00a7fabb6a466c 2019-11-29 12:11:58.253   \n",
       "\n",
       "                     event_type  product_id  \\\n",
       "0   DashboardLivebookLinkOpened        1156   \n",
       "1              ReadingOwnedBook         610   \n",
       "2              ReadingOwnedBook        1172   \n",
       "3  ProductTocLivebookLinkOpened        1066   \n",
       "4              ReadingOwnedBook        1073   \n",
       "\n",
       "                              additional_data  event_date  event_hour  \\\n",
       "0  /book/learn-dbatools-in-a-month-of-lunches  2019-11-29          12   \n",
       "1                                         60s  2019-11-29          12   \n",
       "2                                        480s  2019-11-29          12   \n",
       "3   /book/grokking-machine-learning/chapter-1  2019-11-29          12   \n",
       "4                                        960s  2019-11-29          12   \n",
       "\n",
       "  event_time1  \n",
       "0    12:10:08  \n",
       "1    12:10:19  \n",
       "2    12:11:20  \n",
       "3    12:11:41  \n",
       "4    12:11:58  "
      ]
     },
     "execution_count": 20,
     "metadata": {},
     "output_type": "execute_result"
    }
   ],
   "source": [
    "# Convert the event_time column to a datetime object\n",
    "df[\"event_time\"] = pd.to_datetime(df[\"event_time\"])\n",
    "\n",
    "df['event_time1'] = df['event_time'].dt.strftime('%H:%M:%S')\n",
    "\n",
    "\n",
    "# View the result\n",
    "df.head()\n"
   ]
  },
  {
   "cell_type": "code",
   "execution_count": 25,
   "id": "6331c2c6",
   "metadata": {},
   "outputs": [
    {
     "name": "stdout",
     "output_type": "stream",
     "text": [
      "(3241562, 8)\n"
     ]
    }
   ],
   "source": [
    "# Get the shape of the DataFrame\n",
    "shape = df.shape\n",
    "\n",
    "# Print the shape\n",
    "print(shape)"
   ]
  },
  {
   "cell_type": "code",
   "execution_count": 23,
   "id": "f3c6e3f9",
   "metadata": {},
   "outputs": [
    {
     "data": {
      "text/plain": [
       "account_id           89467\n",
       "event_time         2940583\n",
       "event_type              35\n",
       "product_id             740\n",
       "additional_data     248391\n",
       "event_date             189\n",
       "event_hour              24\n",
       "event_time1          86400\n",
       "dtype: int64"
      ]
     },
     "execution_count": 23,
     "metadata": {},
     "output_type": "execute_result"
    }
   ],
   "source": [
    "df.nunique()"
   ]
  },
  {
   "cell_type": "code",
   "execution_count": 26,
   "id": "5ef8ab32",
   "metadata": {},
   "outputs": [
    {
     "name": "stdout",
     "output_type": "stream",
     "text": [
      "Most common events:\n",
      "ReadingOwnedBook                748260\n",
      "FirstLivebookAccess             658000\n",
      "FirstManningAccess              657110\n",
      "EBookDownloaded                 277356\n",
      "ReadingFreePreview              138197\n",
      "HighlightCreated                121643\n",
      "FreeContentCheckout             116144\n",
      "ReadingOpenChapter              100004\n",
      "ProductTocLivebookLinkOpened     88126\n",
      "LivebookLogin                    62484\n",
      "Name: event_type, dtype: int64\n"
     ]
    }
   ],
   "source": [
    "# What events are top ten most common?\n",
    "most_common_events = df['event_type'].value_counts().head(10)\n",
    "print('Most common events:')\n",
    "print(most_common_events)\n"
   ]
  },
  {
   "cell_type": "code",
   "execution_count": 27,
   "id": "b027b311",
   "metadata": {},
   "outputs": [
    {
     "name": "stdout",
     "output_type": "stream",
     "text": [
      "\n",
      "Least common events:\n",
      "GoToManningShoppingCart            4608\n",
      "ShareableLinkCreated               2746\n",
      "ShareableLinkOpened                2387\n",
      "RemoveProductOffering              2163\n",
      "AddOrUpdateCoupon                  1277\n",
      "ProductLiveaudioUpsell              838\n",
      "ProductSeeFreeLinkOpened            163\n",
      "SherlockHolmesClueFound              10\n",
      "UnknownOriginLivebookLinkOpened       3\n",
      "CommentCreated                        1\n",
      "Name: event_type, dtype: int64\n"
     ]
    }
   ],
   "source": [
    "# What 10 events are least common?\n",
    "least_common_events = df['event_type'].value_counts().tail(10)\n",
    "print('\\nLeast common events:')\n",
    "print(least_common_events)"
   ]
  },
  {
   "cell_type": "code",
   "execution_count": 28,
   "id": "2a611938",
   "metadata": {},
   "outputs": [
    {
     "name": "stdout",
     "output_type": "stream",
     "text": [
      "\n",
      "Account ID with highest number of events: 6bb61e3b7bce0931da574d19d1d82c88\n"
     ]
    }
   ],
   "source": [
    "# Get the account id with the highest number of events\n",
    "account_id_with_max_events = df['account_id'].value_counts().idxmax()\n",
    "print(f\"\\nAccount ID with highest number of events: {account_id_with_max_events}\")"
   ]
  },
  {
   "cell_type": "code",
   "execution_count": 29,
   "id": "60b21957",
   "metadata": {},
   "outputs": [
    {
     "name": "stdout",
     "output_type": "stream",
     "text": [
      "\n",
      "Account ID with lowest number of events: 760ab383f470f8d8c724dff356dccabd\n"
     ]
    }
   ],
   "source": [
    "# Get the account id with the least number of events\n",
    "account_id_with_min_events = df['account_id'].value_counts().idxmin()\n",
    "print(f\"\\nAccount ID with lowest number of events: {account_id_with_min_events}\")"
   ]
  },
  {
   "cell_type": "code",
   "execution_count": 30,
   "id": "17172819",
   "metadata": {},
   "outputs": [],
   "source": [
    "# Extract the hour timestamp column\n",
    "df[\"hour\"] = df[\"event_time\"].dt.strftime(\"%H\")"
   ]
  },
  {
   "cell_type": "code",
   "execution_count": 21,
   "id": "2e4dc9ad",
   "metadata": {},
   "outputs": [
    {
     "name": "stdout",
     "output_type": "stream",
     "text": [
      "\n",
      "Event counts by event_time1:\n",
      "event_time1\n",
      "2023-04-15 00:00:00    16\n",
      "2023-04-15 00:00:01    16\n",
      "2023-04-15 00:00:02    10\n",
      "2023-04-15 00:00:03    17\n",
      "2023-04-15 00:00:04     9\n",
      "                       ..\n",
      "2023-04-15 23:59:55    32\n",
      "2023-04-15 23:59:56    22\n",
      "2023-04-15 23:59:57    26\n",
      "2023-04-15 23:59:58    29\n",
      "2023-04-15 23:59:59    15\n",
      "Name: event_type, Length: 86400, dtype: int64\n"
     ]
    }
   ],
   "source": [
    "# How many times events occurred based on different times of the day?\n",
    "df['event_time1'] = pd.to_datetime(df['event_time1'])\n",
    "#df['hour'] = df['event_time'].dt.hour\n",
    "event_counts_by_event_time1 = df.groupby('event_time1')['event_type'].count()\n",
    "print('\\nEvent counts by event_time1:')\n",
    "print(event_counts_by_event_time1)"
   ]
  },
  {
   "cell_type": "code",
   "execution_count": 22,
   "id": "49aee3cb",
   "metadata": {},
   "outputs": [
    {
     "name": "stdout",
     "output_type": "stream",
     "text": [
      "\n",
      "Event counts by hour:\n",
      "hour\n",
      "0     124520\n",
      "1     110440\n",
      "2     107731\n",
      "3     102044\n",
      "4      97862\n",
      "5     106063\n",
      "6     116399\n",
      "7     132769\n",
      "8     136254\n",
      "9     140254\n",
      "10    139032\n",
      "11    140200\n",
      "12    152359\n",
      "13    168837\n",
      "14    178808\n",
      "15    175226\n",
      "16    164140\n",
      "17    154534\n",
      "18    149501\n",
      "19    150497\n",
      "20    145348\n",
      "21    135893\n",
      "22    115747\n",
      "23     97104\n",
      "Name: event_type, dtype: int64\n"
     ]
    }
   ],
   "source": [
    "# How many times events occurred based on different hours of the day?\n",
    "df['event_time'] = pd.to_datetime(df['event_time'])\n",
    "df['hour'] = df['event_time'].dt.hour\n",
    "event_counts_by_hour = df.groupby('hour')['event_type'].count()\n",
    "print('\\nEvent counts by hour:')\n",
    "print(event_counts_by_hour)"
   ]
  },
  {
   "cell_type": "code",
   "execution_count": 35,
   "id": "c91abf56",
   "metadata": {},
   "outputs": [
    {
     "data": {
      "image/png": "[encoded data removed]",
      "text/plain": [
       "<Figure size 1000x600 with 1 Axes>"
      ]
     },
     "metadata": {},
     "output_type": "display_data"
    }
   ],
   "source": [
    "# Visual representation of the count of events by hour\n",
    "import matplotlib.pyplot as plt\n",
    "\n",
    "plt.figure(figsize=(10, 6))\n",
    "plt.bar(event_counts_by_hour.index, event_counts_by_hour.values)\n",
    "plt.xlabel('Hour of the day')\n",
    "plt.ylabel('Event count')\n",
    "plt.title('Event counts by hour')\n",
    "plt.show()\n"
   ]
  },
  {
   "cell_type": "code",
   "execution_count": 23,
   "id": "57d7a9f0",
   "metadata": {
    "scrolled": true
   },
   "outputs": [
    {
     "data": {
      "image/png": "[encoded data removed]",
      "text/plain": [
       "<Figure size 1000x600 with 1 Axes>"
      ]
     },
     "metadata": {},
     "output_type": "display_data"
    }
   ],
   "source": [
    "# Visual representation of the count of events by time of the day\n",
    "import matplotlib.pyplot as plt\n",
    "\n",
    "plt.figure(figsize=(10, 6))\n",
    "plt.bar(event_counts_by_event_time1.index, event_counts_by_event_time1.values)\n",
    "plt.xlabel('event_time of the day')\n",
    "plt.ylabel('Event count')\n",
    "plt.title('Event counts by event_time')\n",
    "plt.show()"
   ]
  },
  {
   "cell_type": "code",
   "execution_count": 32,
   "id": "d0262c5e",
   "metadata": {},
   "outputs": [
    {
     "name": "stdout",
     "output_type": "stream",
     "text": [
      "account_id         0\n",
      "event_time         0\n",
      "event_type         0\n",
      "product_id         0\n",
      "additional_data    0\n",
      "event_date         0\n",
      "event_hour         0\n",
      "event_time1        0\n",
      "hour               0\n",
      "dtype: int64\n"
     ]
    }
   ],
   "source": [
    "# Check for missing data\n",
    "print(df.isnull().sum())"
   ]
  },
  {
   "cell_type": "code",
   "execution_count": 33,
   "id": "021d7c75",
   "metadata": {},
   "outputs": [
    {
     "name": "stdout",
     "output_type": "stream",
     "text": [
      "ReadingOwnedBook                       748260\n",
      "FirstLivebookAccess                    658000\n",
      "FirstManningAccess                     657110\n",
      "EBookDownloaded                        277356\n",
      "ReadingFreePreview                     138197\n",
      "HighlightCreated                       121643\n",
      "FreeContentCheckout                    116144\n",
      "ReadingOpenChapter                     100004\n",
      "ProductTocLivebookLinkOpened            88126\n",
      "LivebookLogin                           62484\n",
      "DashboardLivebookLinkOpened             48308\n",
      "WishlistItemAdded                       37609\n",
      "CrossReferenceTermOpened                34087\n",
      "SearchMade                              27858\n",
      "SearchResultOpened                      24225\n",
      "ProductLookInsideLivebookLinkOpened     22987\n",
      "BookmarkCreated                         10900\n",
      "EBookRegistration                        8840\n",
      "LivebookRegistration                     7702\n",
      "LivebookAccountConfirmation              7309\n",
      "ExerciseSolved                           6971\n",
      "OrderConfirmationLivebookLinkOpened      6739\n",
      "AddProductOffering                       6511\n",
      "NoteCreated                              5181\n",
      "UpvoteGiven                              4815\n",
      "GoToManningShoppingCart                  4608\n",
      "ShareableLinkCreated                     2746\n",
      "ShareableLinkOpened                      2387\n",
      "RemoveProductOffering                    2163\n",
      "AddOrUpdateCoupon                        1277\n",
      "ProductLiveaudioUpsell                    838\n",
      "ProductSeeFreeLinkOpened                  163\n",
      "SherlockHolmesClueFound                    10\n",
      "UnknownOriginLivebookLinkOpened             3\n",
      "CommentCreated                              1\n",
      "Name: event_type, dtype: int64\n"
     ]
    }
   ],
   "source": [
    "#Check for class imbalances\n",
    "event_counts = df['event_type'].value_counts()\n",
    "print(event_counts)"
   ]
  },
  {
   "cell_type": "code",
   "execution_count": 36,
   "id": "19d84f66",
   "metadata": {},
   "outputs": [
    {
     "data": {
      "image/png": "[encoded data removed]",
      "text/plain": [
       "<Figure size 640x480 with 1 Axes>"
      ]
     },
     "metadata": {},
     "output_type": "display_data"
    }
   ],
   "source": [
    "#Check for patterns in event occurrence based on different times of the day\n",
    "df['event_time'] = pd.to_datetime(df['event_time'])\n",
    "df['hour'] = df['event_time'].dt.hour\n",
    "event_counts_by_hour = df.groupby('hour')['event_type'].count()\n",
    "plt.plot(event_counts_by_hour)\n",
    "plt.title('Event occurrence by hour of the day')\n",
    "plt.xlabel('Hour of the day')\n",
    "plt.ylabel('Number of events')\n",
    "plt.show()"
   ]
  },
  {
   "cell_type": "code",
   "execution_count": 37,
   "id": "6112bc02",
   "metadata": {
    "scrolled": true
   },
   "outputs": [
    {
     "name": "stdout",
     "output_type": "stream",
     "text": [
      "Most active account_id:\n",
      "6bb61e3b7bce0931da574d19d1d82c88    1371116\n",
      "86c876e217ae1ca1cd2986c5521a9768      17357\n",
      "0c2a23a1ce63aa22296072df5cd065f7       5697\n",
      "954c5420b7247345858b62c84d606bb7       5690\n",
      "4de78691553567a9b9e20fde6667773b       4890\n",
      "023f544de40fb3c2ca4157950d64b2bc       4529\n",
      "caffe2b03e6057845c52212acaaa1a34       4189\n",
      "c5a4e7e6882845ea7bb4d9462868219b       4090\n",
      "4f81b1d964419548f01ca35bbaeeda75       3209\n",
      "3eff5d4b55889abb0a8b08d2136f1b63       2707\n",
      "Name: account_id, dtype: int64\n"
     ]
    }
   ],
   "source": [
    "# What account id is most active?\n",
    "Most_active_account_id = df['account_id'].value_counts().head(10)\n",
    "print('Most active account_id:')\n",
    "print(Most_active_account_id)"
   ]
  },
  {
   "cell_type": "code",
   "execution_count": 61,
   "id": "58bf5492",
   "metadata": {},
   "outputs": [
    {
     "name": "stderr",
     "output_type": "stream",
     "text": [
      "C:\\Users\\chioma.egbuagha\\AppData\\Local\\Temp\\ipykernel_8408\\276595831.py:5: SettingWithCopyWarning: \n",
      "A value is trying to be set on a copy of a slice from a DataFrame.\n",
      "Try using .loc[row_indexer,col_indexer] = value instead\n",
      "\n",
      "See the caveats in the documentation: https://pandas.pydata.org/pandas-docs/stable/user_guide/indexing.html#returning-a-view-versus-a-copy\n",
      "  account_df.loc[:, 'hour'] = account_df['event_time'].dt.hour\n"
     ]
    },
    {
     "data": {
      "image/png": "[encoded data removed]",
      "text/plain": [
       "<Figure size 640x480 with 1 Axes>"
      ]
     },
     "metadata": {},
     "output_type": "display_data"
    }
   ],
   "source": [
    "# Analyze a particular account_id for insights on how the person uses the service at different times of the day\n",
    "account_id = '6bb61e3b7bce0931da574d19d1d82c88'\n",
    "account_df = df[df['account_id'] == account_id]\n",
    "#account_df['hour'] = account_df['event_time'].dt.hour\n",
    "account_df.loc[:, 'hour'] = account_df['event_time'].dt.hour\n",
    "event_counts_by_hour = account_df.groupby('hour')['event_type'].count()\n",
    "plt.plot(event_counts_by_hour)\n",
    "plt.title(f'Event occurrence for account {account_id} by hour of the day')\n",
    "plt.xlabel('Hour of the day')\n",
    "plt.ylabel('Number of events')\n",
    "plt.show()"
   ]
  },
  {
   "cell_type": "code",
   "execution_count": null,
   "id": "4cb8fcfb",
   "metadata": {},
   "outputs": [],
   "source": []
  }
 ],
 "metadata": {
  "kernelspec": {
   "display_name": "Python 3 (ipykernel)",
   "language": "python",
   "name": "python3"
  },
  "language_info": {
   "codemirror_mode": {
    "name": "ipython",
    "version": 3
   },
   "file_extension": ".py",
   "mimetype": "text/x-python",
   "name": "python",
   "nbconvert_exporter": "python",
   "pygments_lexer": "ipython3",
   "version": "3.8.16"
  }
 },
 "nbformat": 4,
 "nbformat_minor": 5
}
